{
  "nbformat": 4,
  "nbformat_minor": 0,
  "metadata": {
    "colab": {
      "provenance": [],
      "authorship_tag": "ABX9TyPAgc53OSxdoQoyCpF1vVgV",
      "include_colab_link": true
    },
    "kernelspec": {
      "name": "python3",
      "display_name": "Python 3"
    },
    "language_info": {
      "name": "python"
    }
  },
  "cells": [
    {
      "cell_type": "markdown",
      "metadata": {
        "id": "view-in-github",
        "colab_type": "text"
      },
      "source": [
        "<a href=\"https://colab.research.google.com/github/tejaswininridegree/Python-projects-/blob/main/Another_copy_of_Mouni1.ipynb\" target=\"_parent\"><img src=\"https://colab.research.google.com/assets/colab-badge.svg\" alt=\"Open In Colab\"/></a>"
      ]
    },
    {
      "cell_type": "code",
      "source": [
        "import random\n",
        "random_no=random.randint(2, 100)\n",
        "guessing_no=int(input(\"guess a number between 2 to 100:\"))\n",
        "game_over=False\n",
        "while not game_over:\n",
        "   if guessing_no==random_no:\n",
        "      print(f\"congratulations you win!!!\")\n",
        "      game_over=True\n",
        "   else:\n",
        "      if guessing_no > random_no:\n",
        "         print(\"Too High\")\n",
        "      else:\n",
        "         print(\"Too Low\")\n",
        "         guessing_no=int(input(\"guess again:\"))"
      ],
      "metadata": {
        "id": "JJqy00rkoX8a",
        "colab": {
          "base_uri": "https://localhost:8080/"
        },
        "outputId": "aa60ac15-e29a-49f9-fd6c-ea7961194e60"
      },
      "execution_count": null,
      "outputs": [
        {
          "output_type": "stream",
          "name": "stdout",
          "text": [
            "guess a number between 2 to 100:45\n",
            "Too Low\n",
            "guess again:55\n",
            "Too Low\n",
            "guess again:78\n",
            "Too Low\n",
            "guess again:89\n",
            "Too Low\n",
            "guess again:99\n",
            "Too Low\n",
            "guess again:100\n",
            "congratulations you win!!!\n"
          ]
        }
      ]
    }
  ]
}