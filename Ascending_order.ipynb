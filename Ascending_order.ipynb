{
  "cells": [
    {
      "cell_type": "markdown",
      "metadata": {
        "id": "view-in-github",
        "colab_type": "text"
      },
      "source": [
        "<a href=\"https://colab.research.google.com/github/tejaswininridegree/Python-projects-/blob/main/Ascending_order.ipynb\" target=\"_parent\"><img src=\"https://colab.research.google.com/assets/colab-badge.svg\" alt=\"Open In Colab\"/></a>"
      ]
    },
    {
      "cell_type": "code",
      "source": [
        "numbers=[0,6,1,8,10,3]\n",
        "asc_order=[]\n",
        "def mini(num):\n",
        "    mini_value=num[0]\n",
        "    for x in num:\n",
        "       if x<=mini_value:\n",
        "          mini_value=x\n",
        "    num.remove(mini_value)\n",
        "    asc_order.append(mini_value)\n",
        "for x in range(len(numbers)):\n",
        "     mini(numbers)\n",
        "print(asc_order)"
      ],
      "metadata": {
        "id": "q5pDPDLjGSmV",
        "colab": {
          "base_uri": "https://localhost:8080/"
        },
        "outputId": "0ba3e036-8115-457c-b324-781cc1ab1d91"
      },
      "execution_count": 105,
      "outputs": [
        {
          "output_type": "stream",
          "name": "stdout",
          "text": [
            "[0, 1, 3, 6, 8, 10]\n"
          ]
        }
      ]
    }
  ],
  "metadata": {
    "colab": {
      "provenance": [],
      "authorship_tag": "ABX9TyOnIE3/sX/SBVouRWT4djsd",
      "include_colab_link": true
    },
    "kernelspec": {
      "display_name": "Python 3",
      "name": "python3"
    },
    "language_info": {
      "name": "python"
    }
  },
  "nbformat": 4,
  "nbformat_minor": 0
}